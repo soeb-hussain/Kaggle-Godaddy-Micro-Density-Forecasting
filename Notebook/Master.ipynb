{
 "cells": [
  {
   "cell_type": "markdown",
   "id": "3e02e46f",
   "metadata": {},
   "source": [
    "References \n",
    "\n",
    "learn time series: https://www.kaggle.com/competitions/godaddy-microbusiness-density-forecasting/discussion/372926\n",
    "\n",
    "Explaination of the top notebook: https://www.kaggle.com/competitions/godaddy-microbusiness-density-forecasting/discussion/375802\n",
    "\n",
    "Begineers:\n",
    "https://www.kaggle.com/code/joshuascj/better-xgb-baseline-understanding-for-beginners\n",
    "EDA - https://www.kaggle.com/code/aditya9790/godaddy-eda-for-beginners\n",
    "\n",
    "\n",
    "https://www.kaggle.com/code/tanmay111999/gdmbf-ar-ma-arma-arima-sarima-auto-arima\n",
    "\n",
    "\n"
   ]
  }
 ],
 "metadata": {
  "kernelspec": {
   "display_name": "Python 3.9 (pytorch)",
   "language": "python",
   "name": "pytorch"
  },
  "language_info": {
   "codemirror_mode": {
    "name": "ipython",
    "version": 3
   },
   "file_extension": ".py",
   "mimetype": "text/x-python",
   "name": "python",
   "nbconvert_exporter": "python",
   "pygments_lexer": "ipython3",
   "version": "3.9.16"
  }
 },
 "nbformat": 4,
 "nbformat_minor": 5
}
